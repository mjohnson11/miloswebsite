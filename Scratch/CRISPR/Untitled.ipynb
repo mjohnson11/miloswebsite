{
 "cells": [
  {
   "cell_type": "code",
   "execution_count": 5,
   "metadata": {},
   "outputs": [],
   "source": [
    "import pandas as pd\n",
    "import numpy as np"
   ]
  },
  {
   "cell_type": "code",
   "execution_count": 2,
   "metadata": {},
   "outputs": [],
   "source": [
    "lefts, rights, pos, genes = [], [], [], []\n",
    "with open('walk.html', 'r') as infile:\n",
    "    for line in infile:\n",
    "        if 'class=\"state0' in line:\n",
    "            lefts.append(line.split('p3>')[1][:-2])\n",
    "        elif 'class=\"state1' in line:\n",
    "            rights.append(line.split('p3>')[1][:-2])\n",
    "        elif 'class=\"site\"' in line:\n",
    "            genes.append(line.split('p3>')[1][:-2])\n",
    "        elif 'class=\"sitespot\"' in line:\n",
    "            pos.append(line.split('p3>')[1][:-2])"
   ]
  },
  {
   "cell_type": "code",
   "execution_count": 10,
   "metadata": {},
   "outputs": [],
   "source": [
    "d = pd.DataFrame(np.array([genes, pos, lefts, rights]).T, columns=['Gene', 'Pos', 'Allele1', 'Allele2'])\n",
    "d.to_csv('data/Allele_info.csv', index=False)"
   ]
  },
  {
   "cell_type": "code",
   "execution_count": null,
   "metadata": {},
   "outputs": [],
   "source": []
  }
 ],
 "metadata": {
  "kernelspec": {
   "display_name": "Python 3",
   "language": "python",
   "name": "python3"
  },
  "language_info": {
   "codemirror_mode": {
    "name": "ipython",
    "version": 3
   },
   "file_extension": ".py",
   "mimetype": "text/x-python",
   "name": "python",
   "nbconvert_exporter": "python",
   "pygments_lexer": "ipython3",
   "version": "3.7.1"
  }
 },
 "nbformat": 4,
 "nbformat_minor": 2
}
