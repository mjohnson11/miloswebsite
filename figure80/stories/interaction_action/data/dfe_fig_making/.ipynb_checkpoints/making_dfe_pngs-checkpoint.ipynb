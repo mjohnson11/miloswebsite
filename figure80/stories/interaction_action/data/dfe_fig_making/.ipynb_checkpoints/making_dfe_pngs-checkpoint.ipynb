{
 "cells": [
  {
   "cell_type": "markdown",
   "metadata": {},
   "source": [
    "# Making a DFE changing gif\n",
    "\n",
    "working off this tutorial: http://louistiao.me/posts/notebooks/save-matplotlib-animations-as-gifs/\n",
    "\n",
    "had to install imagemagick (\"brew install imagemagick\")"
   ]
  },
  {
   "cell_type": "code",
   "execution_count": 27,
   "metadata": {},
   "outputs": [],
   "source": [
    "import pandas as pd\n",
    "import numpy as np\n",
    "import matplotlib.pyplot as pl\n",
    "import seaborn as sns\n",
    "sns.set_style(\"white\")\n",
    "\n",
    "from matplotlib import animation, rc\n",
    "from IPython.display import HTML, Image\n",
    "%matplotlib inline"
   ]
  },
  {
   "cell_type": "code",
   "execution_count": 78,
   "metadata": {},
   "outputs": [
    {
     "name": "stderr",
     "output_type": "stream",
     "text": [
      "/anaconda3/lib/python3.7/site-packages/ipykernel_launcher.py:3: FutureWarning: Method .as_matrix will be removed in a future version. Use .values instead.\n",
      "  This is separate from the ipykernel package so we can avoid doing imports until\n"
     ]
    }
   ],
   "source": [
    "# Reading information of segregant fitness in our focal environment (from Jerison et al. 2017)\n",
    "x_info = pd.read_csv('files/Clones_For_Tn96_Experiment.csv')\n",
    "seg_to_fit = {i[0]: i[1] for i in x_info.as_matrix(['segregant', 'initial fitness, YPD 30C'])}\n",
    "# Reading data files containing fitness effect information from the small library experiment (few (~100) mutations in many genetic backgrounds)\n",
    "tp_all = pd.read_csv('files/TP_data_by_edge.csv')\n",
    "# This excludes the neutral controls, a few mutations that were unintentionally included in this library, and a few controls that didn't end up getting good enough coverage to really analyze\n",
    "tp = tp_all.loc[tp_all['Type']=='Experiment']\n",
    "\n",
    "# Getting a list of segregants by looking for columns like segregant.mean.s in the dataframe\n",
    "segs_all = [i.split('.')[0] for i in tp if '.mean.s' in i]\n",
    "# Making restricted lists of segregants that have at least 70 mutations with s measured for this DFE animation\n",
    "segs_use = [s for s in segs_all if len(tp.loc[pd.notnull(tp[s + '.mean.s'])])>=70]\n",
    "# Making some \n",
    "sorted_segs = sorted(segs_use, key=lambda x: seg_to_fit[x])"
   ]
  },
  {
   "cell_type": "code",
   "execution_count": 73,
   "metadata": {},
   "outputs": [
    {
     "data": {
      "image/png": "[encoded data removed]",
      "text/plain": [
       "<Figure size 720x576 with 1 Axes>"
      ]
     },
     "metadata": {
      "needs_background": "light"
     },
     "output_type": "display_data"
    }
   ],
   "source": [
    "# First set up the figure, the axis, and the plot element we want to animate\n",
    "fig, ax = pl.subplots(figsize=(10,8))\n",
    "\n",
    "def get_dfe(df, segname):\n",
    "    use_df = df.loc[pd.notnull(df[segname + '.mean.s'])]\n",
    "    return list(use_df[segname + '.mean.s'])\n",
    "\n",
    "bin_lefts = [(-16.15+i)*0.015-0.005 for i in range(22)]\n",
    "for i in range(len(sorted_segs)):\n",
    "    d = get_dfe(tp, sorted_segs[i])\n",
    "    ax.cla()\n",
    "    ax.hist(d, bins=bin_lefts, facecolor=\"k\", weights=np.ones_like(d)/float(len(d)))\n",
    "    ax.axvline(x=0, linestyle='dashed', c='k', alpha=0.5)\n",
    "    ax.set_xlim(( -0.17, 0.1))\n",
    "    ax.set_ylim((0,0.32))\n",
    "    ax.tick_params(axis='both', labelsize=16)\n",
    "    ax.set_xlabel(\"Fitness Effect\", fontsize=20)\n",
    "    ax.set_yticks([])\n",
    "    sns.despine(left=True, bottom=True)\n",
    "    fig.savefig('../dfe_pngs/dfe' + str(i+1) + '.png')"
   ]
  },
  {
   "cell_type": "code",
   "execution_count": 61,
   "metadata": {},
   "outputs": [
    {
     "data": {
      "text/plain": [
       "81"
      ]
     },
     "execution_count": 61,
     "metadata": {},
     "output_type": "execute_result"
    }
   ],
   "source": [
    "len(sorted_segs)"
   ]
  },
  {
   "cell_type": "code",
   "execution_count": 58,
   "metadata": {},
   "outputs": [],
   "source": [
    "# animation function. This is called sequentially\n",
    "def update(i):\n",
    "    d = get_dfe(tp, sorted_segs[i])\n",
    "    ax.cla()\n",
    "    ax.hist(d, bins=bin_lefts, facecolor=\"k\", weights=np.ones_like(d)/float(len(d)))\n",
    "    ax.axvline(x=0, linestyle='dashed', c='k', alpha=0.5)\n",
    "    ax.set_xlim(( -0.17, 0.1))\n",
    "    ax.set_ylim((0,0.32))\n",
    "    ax.tick_params(axis='both', labelsize=16)\n",
    "    ax.set_title(i)\n",
    "\n",
    "# call the animator. blit=True means only re-draw the parts that \n",
    "# have changed.\n",
    "anim = animation.FuncAnimation(fig, update, frames=len(sorted_segs), interval=20)"
   ]
  },
  {
   "cell_type": "code",
   "execution_count": 63,
   "metadata": {},
   "outputs": [],
   "source": [
    "anim.save('animation.gif', writer='imagemagick', fps=5)"
   ]
  },
  {
   "cell_type": "code",
   "execution_count": 64,
   "metadata": {},
   "outputs": [
    {
     "data": {
      "text/html": [
       "<img src=\"animation.gif\"/>"
      ],
      "text/plain": [
       "<IPython.core.display.Image object>"
      ]
     },
     "execution_count": 64,
     "metadata": {},
     "output_type": "execute_result"
    }
   ],
   "source": [
    "Image(url='animation.gif')"
   ]
  },
  {
   "cell_type": "code",
   "execution_count": null,
   "metadata": {},
   "outputs": [],
   "source": []
  }
 ],
 "metadata": {
  "kernelspec": {
   "display_name": "Python 3",
   "language": "python",
   "name": "python3"
  },
  "language_info": {
   "codemirror_mode": {
    "name": "ipython",
    "version": 3
   },
   "file_extension": ".py",
   "mimetype": "text/x-python",
   "name": "python",
   "nbconvert_exporter": "python",
   "pygments_lexer": "ipython3",
   "version": "3.7.1"
  }
 },
 "nbformat": 4,
 "nbformat_minor": 2
}
